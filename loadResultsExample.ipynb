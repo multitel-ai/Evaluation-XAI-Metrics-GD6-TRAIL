{
 "cells": [
  {
   "cell_type": "code",
   "execution_count": 2,
   "id": "c17a1dda-eb24-46c5-8167-a708c8e845b4",
   "metadata": {},
   "outputs": [],
   "source": [
    "from results import ResultsLoader"
   ]
  },
  {
   "cell_type": "code",
   "execution_count": 4,
   "id": "b08e59f0-63e9-4d45-8236-35592cbd0577",
   "metadata": {},
   "outputs": [],
   "source": [
    "CSV_DIR_PATH = './csv/'\n",
    "\n",
    "results_loader = ResultsLoader(CSV_DIR_PATH)"
   ]
  },
  {
   "cell_type": "code",
   "execution_count": 8,
   "id": "672e28c3-aa24-480f-84f5-40a55dacde6b",
   "metadata": {},
   "outputs": [
    {
     "name": "stdout",
     "output_type": "stream",
     "text": [
      "METHODS {'gaussian', 'scorecam', 'sobel', 'random', 'gradcam', 'layercam', 'rise', 'guidedbackprop', 'smoothgrad', 'polycam', 'integratedgrad'}\n",
      "MODELS {'resnet50'}\n",
      "DATASETS {'imagenet'}\n",
      "METRICS {'Pixel-Flipping', 'Max-Sensitivity', 'Completeness', 'Selectivity', 'EffectiveComplexity', 'Faithfulness Estimate', 'Random Logit', 'Avg-Sensitivity', 'Faithfulness Correlation', 'Region Perturbation', 'Sparseness', 'Nonsensitivity', 'SensitivityN', 'Monotonicity Nguyen', 'Model Parameter Randomisation', 'Local Lipschitz Estimate', 'Complexity', 'Continuity Test', 'Monotonicity Arya'}\n",
      "FILENAMES {'guidedbackprop_resnet50_imagenet_SensitivityN.csv', 'layercam_resnet50_imagenet_Monotonicity Nguyen.csv', 'sobel_resnet50_imagenet_Faithfulness Estimate.csv', 'rise_resnet50_imagenet_Region Perturbation.csv', 'random_resnet50_imagenet_Complexity.csv', 'smoothgrad_resnet50_imagenet_Complexity.csv', 'rise_resnet50_imagenet_SensitivityN.csv', 'rise_resnet50_imagenet_Avg-Sensitivity.csv', 'guidedbackprop_resnet50_imagenet_Pixel-Flipping.csv', 'scorecam_resnet50_imagenet_Local Lipschitz Estimate.csv', 'scorecam_resnet50_imagenet_Complexity.csv', 'polycam_resnet50_imagenet_Max-Sensitivity.csv', 'rise_resnet50_imagenet_Complexity.csv', 'smoothgrad_resnet50_imagenet_Monotonicity Arya.csv', 'gaussian_resnet50_imagenet_Sparseness.csv', 'sobel_resnet50_imagenet_Monotonicity Arya.csv', 'integratedgrad_resnet50_imagenet_SensitivityN.csv', 'guidedbackprop_resnet50_imagenet_Sparseness.csv', 'gradcam_resnet50_imagenet_Monotonicity Nguyen.csv', 'random_resnet50_imagenet_Continuity Test.csv', 'gradcam_resnet50_imagenet_Complexity.csv', 'integratedgrad_resnet50_imagenet_Model Parameter Randomisation.csv', 'scorecam_resnet50_imagenet_Pixel-Flipping.csv', 'layercam_resnet50_imagenet_Local Lipschitz Estimate.csv', 'sobel_resnet50_imagenet_Region Perturbation.csv', 'guidedbackprop_resnet50_imagenet_Region Perturbation.csv', 'scorecam_resnet50_imagenet_Faithfulness Correlation.csv', 'layercam_resnet50_imagenet_Selectivity.csv', 'integratedgrad_resnet50_imagenet_Avg-Sensitivity.csv', 'gradcam_resnet50_imagenet_Continuity Test.csv', 'smoothgrad_resnet50_imagenet_Avg-Sensitivity.csv', 'guidedbackprop_resnet50_imagenet_Selectivity.csv', 'rise_resnet50_imagenet_Monotonicity Nguyen.csv', 'guidedbackprop_resnet50_imagenet_EffectiveComplexity.csv', 'rise_resnet50_imagenet_Continuity Test.csv', 'sobel_resnet50_imagenet_Model Parameter Randomisation.csv', 'layercam_resnet50_imagenet_Completeness.csv', 'gaussian_resnet50_imagenet_Nonsensitivity.csv', 'random_resnet50_imagenet_Random Logit.csv', 'polycam_resnet50_imagenet_Faithfulness Estimate.csv', 'layercam_resnet50_imagenet_Model Parameter Randomisation.csv', 'guidedbackprop_resnet50_imagenet_Nonsensitivity.csv', 'smoothgrad_resnet50_imagenet_Region Perturbation.csv', 'random_resnet50_imagenet_Nonsensitivity.csv', 'gradcam_resnet50_imagenet_Region Perturbation.csv', 'scorecam_resnet50_imagenet_Random Logit.csv', 'rise_resnet50_imagenet_Local Lipschitz Estimate.csv', 'smoothgrad_resnet50_imagenet_Max-Sensitivity.csv', 'random_resnet50_imagenet_SensitivityN.csv', 'gradcam_resnet50_imagenet_Max-Sensitivity.csv', 'guidedbackprop_resnet50_imagenet_Local Lipschitz Estimate.csv', 'scorecam_resnet50_imagenet_Model Parameter Randomisation.csv', 'guidedbackprop_resnet50_imagenet_Model Parameter Randomisation.csv', 'scorecam_resnet50_imagenet_Sparseness.csv', 'layercam_resnet50_imagenet_Avg-Sensitivity.csv', 'random_resnet50_imagenet_Max-Sensitivity.csv', 'scorecam_resnet50_imagenet_Completeness.csv', 'layercam_resnet50_imagenet_Pixel-Flipping.csv', 'layercam_resnet50_imagenet_Nonsensitivity.csv', 'rise_resnet50_imagenet_EffectiveComplexity.csv', 'gaussian_resnet50_imagenet_Model Parameter Randomisation.csv', 'gradcam_resnet50_imagenet_Selectivity.csv', 'gaussian_resnet50_imagenet_Monotonicity Nguyen.csv', 'gradcam_resnet50_imagenet_Faithfulness Correlation.csv', 'guidedbackprop_resnet50_imagenet_Monotonicity Arya.csv', 'sobel_resnet50_imagenet_Faithfulness Correlation.csv', 'gaussian_resnet50_imagenet_Avg-Sensitivity.csv', 'guidedbackprop_resnet50_imagenet_Avg-Sensitivity.csv', 'gradcam_resnet50_imagenet_Completeness.csv', 'random_resnet50_imagenet_Monotonicity Arya.csv', 'rise_resnet50_imagenet_Nonsensitivity.csv', 'polycam_resnet50_imagenet_Sparseness.csv', 'gaussian_resnet50_imagenet_Complexity.csv', 'polycam_resnet50_imagenet_Continuity Test.csv', 'gaussian_resnet50_imagenet_Continuity Test.csv', 'gradcam_resnet50_imagenet_Faithfulness Estimate.csv', 'layercam_resnet50_imagenet_Monotonicity Arya.csv', 'random_resnet50_imagenet_Local Lipschitz Estimate.csv', 'sobel_resnet50_imagenet_Continuity Test.csv', 'smoothgrad_resnet50_imagenet_Random Logit.csv', 'gradcam_resnet50_imagenet_Avg-Sensitivity.csv', 'integratedgrad_resnet50_imagenet_Continuity Test.csv', 'sobel_resnet50_imagenet_Complexity.csv', 'integratedgrad_resnet50_imagenet_Monotonicity Arya.csv', 'sobel_resnet50_imagenet_Max-Sensitivity.csv', 'gaussian_resnet50_imagenet_Faithfulness Correlation.csv', 'guidedbackprop_resnet50_imagenet_Max-Sensitivity.csv', 'random_resnet50_imagenet_Selectivity.csv', 'guidedbackprop_resnet50_imagenet_Completeness.csv', 'gaussian_resnet50_imagenet_Selectivity.csv', 'gradcam_resnet50_imagenet_Pixel-Flipping.csv', 'smoothgrad_resnet50_imagenet_Faithfulness Estimate.csv', 'polycam_resnet50_imagenet_Nonsensitivity.csv', 'scorecam_resnet50_imagenet_Selectivity.csv', 'integratedgrad_resnet50_imagenet_Monotonicity Nguyen.csv', 'gaussian_resnet50_imagenet_Region Perturbation.csv', 'smoothgrad_resnet50_imagenet_Monotonicity Nguyen.csv', 'scorecam_resnet50_imagenet_Nonsensitivity.csv', 'gaussian_resnet50_imagenet_Max-Sensitivity.csv', 'polycam_resnet50_imagenet_Faithfulness Correlation.csv', 'integratedgrad_resnet50_imagenet_Completeness.csv', 'polycam_resnet50_imagenet_Monotonicity Arya.csv', 'gradcam_resnet50_imagenet_Sparseness.csv', 'integratedgrad_resnet50_imagenet_Region Perturbation.csv', 'integratedgrad_resnet50_imagenet_Sparseness.csv', 'scorecam_resnet50_imagenet_EffectiveComplexity.csv', 'random_resnet50_imagenet_Completeness.csv', 'integratedgrad_resnet50_imagenet_Selectivity.csv', 'polycam_resnet50_imagenet_SensitivityN.csv', 'polycam_resnet50_imagenet_Completeness.csv', 'layercam_resnet50_imagenet_Region Perturbation.csv', 'random_resnet50_imagenet_Region Perturbation.csv', 'integratedgrad_resnet50_imagenet_Local Lipschitz Estimate.csv', 'layercam_resnet50_imagenet_SensitivityN.csv', 'gaussian_resnet50_imagenet_Local Lipschitz Estimate.csv', 'integratedgrad_resnet50_imagenet_Complexity.csv', 'polycam_resnet50_imagenet_Complexity.csv', 'sobel_resnet50_imagenet_Pixel-Flipping.csv', 'scorecam_resnet50_imagenet_Faithfulness Estimate.csv', 'rise_resnet50_imagenet_Completeness.csv', 'integratedgrad_resnet50_imagenet_Random Logit.csv', 'scorecam_resnet50_imagenet_Monotonicity Nguyen.csv', 'layercam_resnet50_imagenet_Max-Sensitivity.csv', 'smoothgrad_resnet50_imagenet_Pixel-Flipping.csv', 'random_resnet50_imagenet_Sparseness.csv', 'sobel_resnet50_imagenet_EffectiveComplexity.csv', 'random_resnet50_imagenet_Avg-Sensitivity.csv', 'rise_resnet50_imagenet_Model Parameter Randomisation.csv', 'gradcam_resnet50_imagenet_Nonsensitivity.csv', 'smoothgrad_resnet50_imagenet_Faithfulness Correlation.csv', 'layercam_resnet50_imagenet_Faithfulness Estimate.csv', 'guidedbackprop_resnet50_imagenet_Monotonicity Nguyen.csv', 'smoothgrad_resnet50_imagenet_Sparseness.csv', 'layercam_resnet50_imagenet_Continuity Test.csv', 'sobel_resnet50_imagenet_Monotonicity Nguyen.csv', 'polycam_resnet50_imagenet_Avg-Sensitivity.csv', 'polycam_resnet50_imagenet_EffectiveComplexity.csv', 'guidedbackprop_resnet50_imagenet_Complexity.csv', 'scorecam_resnet50_imagenet_Continuity Test.csv', 'sobel_resnet50_imagenet_Sparseness.csv', 'integratedgrad_resnet50_imagenet_Nonsensitivity.csv', 'random_resnet50_imagenet_Model Parameter Randomisation.csv', 'random_resnet50_imagenet_Pixel-Flipping.csv', 'rise_resnet50_imagenet_Faithfulness Estimate.csv', 'scorecam_resnet50_imagenet_SensitivityN.csv', 'polycam_resnet50_imagenet_Local Lipschitz Estimate.csv', 'smoothgrad_resnet50_imagenet_Completeness.csv', 'guidedbackprop_resnet50_imagenet_Faithfulness Estimate.csv', 'layercam_resnet50_imagenet_Faithfulness Correlation.csv', 'smoothgrad_resnet50_imagenet_EffectiveComplexity.csv', 'integratedgrad_resnet50_imagenet_Pixel-Flipping.csv', 'gaussian_resnet50_imagenet_Faithfulness Estimate.csv', 'layercam_resnet50_imagenet_Random Logit.csv', 'gradcam_resnet50_imagenet_SensitivityN.csv', 'gradcam_resnet50_imagenet_Local Lipschitz Estimate.csv', 'rise_resnet50_imagenet_Monotonicity Arya.csv', 'polycam_resnet50_imagenet_Selectivity.csv', 'polycam_resnet50_imagenet_Pixel-Flipping.csv', 'sobel_resnet50_imagenet_Local Lipschitz Estimate.csv', 'rise_resnet50_imagenet_Random Logit.csv', 'guidedbackprop_resnet50_imagenet_Faithfulness Correlation.csv', 'gaussian_resnet50_imagenet_Pixel-Flipping.csv', 'smoothgrad_resnet50_imagenet_Continuity Test.csv', 'scorecam_resnet50_imagenet_Avg-Sensitivity.csv', 'scorecam_resnet50_imagenet_Max-Sensitivity.csv', 'sobel_resnet50_imagenet_Avg-Sensitivity.csv', 'gradcam_resnet50_imagenet_EffectiveComplexity.csv', 'rise_resnet50_imagenet_Max-Sensitivity.csv', 'integratedgrad_resnet50_imagenet_EffectiveComplexity.csv', 'rise_resnet50_imagenet_Pixel-Flipping.csv', 'smoothgrad_resnet50_imagenet_SensitivityN.csv', 'random_resnet50_imagenet_EffectiveComplexity.csv', 'guidedbackprop_resnet50_imagenet_Random Logit.csv', 'smoothgrad_resnet50_imagenet_Nonsensitivity.csv', 'gaussian_resnet50_imagenet_Completeness.csv', 'polycam_resnet50_imagenet_Monotonicity Nguyen.csv', 'smoothgrad_resnet50_imagenet_Selectivity.csv', 'gaussian_resnet50_imagenet_EffectiveComplexity.csv', 'guidedbackprop_resnet50_imagenet_Continuity Test.csv', 'rise_resnet50_imagenet_Selectivity.csv', 'integratedgrad_resnet50_imagenet_Faithfulness Correlation.csv', 'gaussian_resnet50_imagenet_Monotonicity Arya.csv', 'layercam_resnet50_imagenet_EffectiveComplexity.csv', 'rise_resnet50_imagenet_Sparseness.csv', 'smoothgrad_resnet50_imagenet_Model Parameter Randomisation.csv', 'scorecam_resnet50_imagenet_Monotonicity Arya.csv', 'smoothgrad_resnet50_imagenet_Local Lipschitz Estimate.csv', 'polycam_resnet50_imagenet_Model Parameter Randomisation.csv', 'random_resnet50_imagenet_Faithfulness Correlation.csv', 'sobel_resnet50_imagenet_Completeness.csv', 'sobel_resnet50_imagenet_Random Logit.csv', 'polycam_resnet50_imagenet_Region Perturbation.csv', 'gradcam_resnet50_imagenet_Random Logit.csv', 'rise_resnet50_imagenet_Faithfulness Correlation.csv', 'sobel_resnet50_imagenet_Selectivity.csv', 'random_resnet50_imagenet_Faithfulness Estimate.csv', 'layercam_resnet50_imagenet_Sparseness.csv', 'scorecam_resnet50_imagenet_Region Perturbation.csv', 'gradcam_resnet50_imagenet_Model Parameter Randomisation.csv', 'integratedgrad_resnet50_imagenet_Faithfulness Estimate.csv', 'sobel_resnet50_imagenet_Nonsensitivity.csv', 'gaussian_resnet50_imagenet_SensitivityN.csv', 'layercam_resnet50_imagenet_Complexity.csv', 'integratedgrad_resnet50_imagenet_Max-Sensitivity.csv', 'gradcam_resnet50_imagenet_Monotonicity Arya.csv', 'sobel_resnet50_imagenet_SensitivityN.csv', 'random_resnet50_imagenet_Monotonicity Nguyen.csv'}\n"
     ]
    }
   ],
   "source": [
    "print('METHODS', results_loader.method_names)\n",
    "print('MODELS', results_loader.model_names)\n",
    "print('DATASETS', results_loader.dataset_names)\n",
    "print('METRICS', results_loader.metric_names)\n",
    "print('FILENAMES', results_loader.filenames)"
   ]
  },
  {
   "cell_type": "code",
   "execution_count": 16,
   "id": "a9a0627b-c89c-4d09-bec3-296f946acaf0",
   "metadata": {},
   "outputs": [
    {
     "name": "stdout",
     "output_type": "stream",
     "text": [
      "gradcam_resnet50_imagenet_Local Lipschitz Estimate : <class 'list'>, 2000 * <class 'float'>\n",
      "gradcam_resnet50_imagenet_Sparseness : <class 'list'>, 2000 * <class 'float'>\n",
      "gradcam_resnet50_imagenet_Selectivity : <class 'list'>, 2000 * <class 'list'>, 256 * <class 'float'>\n",
      "gradcam_resnet50_imagenet_Faithfulness Correlation : <class 'list'>, 2000 * <class 'float'>\n",
      "gradcam_resnet50_imagenet_EffectiveComplexity : <class 'list'>, 2000 * <class 'float'>\n",
      "gradcam_resnet50_imagenet_Completeness : <class 'list'>, 2000 * <class 'bool'>\n",
      "gradcam_resnet50_imagenet_Monotonicity Nguyen : <class 'list'>, 2000 * <class 'float'>\n",
      "gradcam_resnet50_imagenet_Complexity : <class 'list'>, 2000 * <class 'float'>\n",
      "gradcam_resnet50_imagenet_Faithfulness Estimate : <class 'list'>, 2000 * <class 'float'>\n",
      "gradcam_resnet50_imagenet_Nonsensitivity : <class 'list'>, 2000 * <class 'float'>\n",
      "gradcam_resnet50_imagenet_Avg-Sensitivity : <class 'list'>, 2000 * <class 'float'>\n",
      "gradcam_resnet50_imagenet_Continuity Test : <class 'list'>, 2000 * <class 'dict'>, 1025 * <class 'str'>:<class 'list'>, 10 * <class 'float'>\n",
      "gradcam_resnet50_imagenet_Random Logit : <class 'list'>, 2000 * <class 'float'>\n",
      "gradcam_resnet50_imagenet_Model Parameter Randomisation : <class 'list'>, 125 * <class 'dict'>, 107 * <class 'str'>:<class 'list'>, 16 * <class 'float'>\n",
      "gradcam_resnet50_imagenet_Pixel-Flipping : <class 'list'>, 2000 * <class 'list'>, 1792 * <class 'float'>\n",
      "gradcam_resnet50_imagenet_Region Perturbation : <class 'list'>, 2000 * <class 'list'>, 64 * <class 'float'>\n",
      "gradcam_resnet50_imagenet_Monotonicity Arya : <class 'list'>, 2000 * <class 'bool'>\n",
      "gradcam_resnet50_imagenet_Max-Sensitivity : <class 'list'>, 2000 * <class 'float'>\n",
      "gradcam_resnet50_imagenet_SensitivityN : <class 'list'>, 179125 * <class 'float'>\n"
     ]
    }
   ],
   "source": [
    "# get filenames by filtering on method and model\n",
    "for filename in results_loader.get_filenames('gradcam', 'resnet50'):\n",
    "    try:\n",
    "        # load results from file (without dir path)\n",
    "        res = results_loader.load_file(filename)\n",
    "        # print structure of results\n",
    "        print(f'{filename[:-4]} : {results_loader.get_results_structure(res)}')\n",
    "    except:\n",
    "        errors.append(filename)"
   ]
  }
 ],
 "metadata": {
  "kernelspec": {
   "display_name": "Python 3 (ipykernel)",
   "language": "python",
   "name": "python3"
  },
  "language_info": {
   "codemirror_mode": {
    "name": "ipython",
    "version": 3
   },
   "file_extension": ".py",
   "mimetype": "text/x-python",
   "name": "python",
   "nbconvert_exporter": "python",
   "pygments_lexer": "ipython3",
   "version": "3.8.12"
  }
 },
 "nbformat": 4,
 "nbformat_minor": 5
}
